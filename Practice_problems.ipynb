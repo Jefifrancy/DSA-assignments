{
  "nbformat": 4,
  "nbformat_minor": 0,
  "metadata": {
    "colab": {
      "provenance": []
    },
    "kernelspec": {
      "name": "python3",
      "display_name": "Python 3"
    },
    "language_info": {
      "name": "python"
    }
  },
  "cells": [
    {
      "cell_type": "markdown",
      "source": [
        "Question 1"
      ],
      "metadata": {
        "id": "gcJWtWbfB9zQ"
      }
    },
    {
      "cell_type": "code",
      "execution_count": null,
      "metadata": {
        "id": "A20TMQsxxrYZ"
      },
      "outputs": [],
      "source": [
        "a = 'length'\n",
        "b = 'width'"
      ]
    },
    {
      "cell_type": "code",
      "source": [
        "# input function\n",
        "a = int(input(\"enter a number\"))\n",
        "b = int(input(\"enter a number\"))\n",
        "A = a*b\n",
        "print(A)"
      ],
      "metadata": {
        "colab": {
          "base_uri": "https://localhost:8080/"
        },
        "id": "7Xgv3E4XyfTT",
        "outputId": "127266bb-ec52-4a88-d1e5-67ab4c4aa9f3"
      },
      "execution_count": null,
      "outputs": [
        {
          "output_type": "stream",
          "name": "stdout",
          "text": [
            "enter a number5\n",
            "enter a number6\n",
            "30\n"
          ]
        }
      ]
    },
    {
      "cell_type": "markdown",
      "source": [
        "Question 2"
      ],
      "metadata": {
        "id": "m3B_5CfoCFLX"
      }
    },
    {
      "cell_type": "code",
      "source": [
        "# input function\n",
        "a = int(input(\"enter a number\"))\n",
        "b = int(input(\"enter a number\"))\n",
        "B = a+b\n",
        "C = a-b\n",
        "D = a*b\n",
        "E = a%b\n",
        "print(B)\n",
        "print(C)\n",
        "print(D)\n",
        "print(E)"
      ],
      "metadata": {
        "colab": {
          "base_uri": "https://localhost:8080/"
        },
        "id": "4PMsRNAszlWQ",
        "outputId": "03b2017c-80f4-469a-96fd-46beda0f3312"
      },
      "execution_count": null,
      "outputs": [
        {
          "output_type": "stream",
          "name": "stdout",
          "text": [
            "enter a number6\n",
            "enter a number8\n",
            "14\n",
            "-2\n",
            "48\n",
            "6\n"
          ]
        }
      ]
    },
    {
      "cell_type": "markdown",
      "source": [
        "Question 6"
      ],
      "metadata": {
        "id": "sqrA-RM9CKxk"
      }
    },
    {
      "cell_type": "code",
      "source": [
        "n = int(input(\"enter a number\"))\n",
        "if 90<=n<=100:\n",
        "   print('A')\n",
        "elif 80<=n<=90:\n",
        "   print('B')\n",
        "elif 70<=n<=80:\n",
        "   print('C')\n",
        "elif 60<=n<=70:\n",
        "   print('D')"
      ],
      "metadata": {
        "colab": {
          "base_uri": "https://localhost:8080/"
        },
        "id": "CsoQPmP11Plj",
        "outputId": "32ea36cb-f1ee-4656-95c2-7fac7b235404"
      },
      "execution_count": null,
      "outputs": [
        {
          "output_type": "stream",
          "name": "stdout",
          "text": [
            "enter a number92\n",
            "A\n"
          ]
        }
      ]
    },
    {
      "cell_type": "markdown",
      "source": [
        "Question 4"
      ],
      "metadata": {
        "id": "dI12oHyQCQoM"
      }
    },
    {
      "cell_type": "code",
      "source": [
        "m = int(input(\"enter a number\"))\n",
        "if (-m):\n",
        "   print('negative')\n",
        "elif (+m):\n",
        "   print('positive')"
      ],
      "metadata": {
        "colab": {
          "base_uri": "https://localhost:8080/"
        },
        "id": "uI10CADA33EO",
        "outputId": "62cdee95-6a21-45ec-b357-a80b7417b1eb"
      },
      "execution_count": null,
      "outputs": [
        {
          "output_type": "stream",
          "name": "stdout",
          "text": [
            "enter a number-19\n",
            "negative\n"
          ]
        }
      ]
    },
    {
      "cell_type": "markdown",
      "source": [
        "Question 5"
      ],
      "metadata": {
        "id": "9VdsmNffCZst"
      }
    },
    {
      "cell_type": "code",
      "source": [
        "p = int(input(\"enter a number\"))\n",
        "if (p%4):\n",
        "   print('leap year')\n",
        "elif (p%100):\n",
        "   print('not a leap year')\n",
        "else: (p%400)\n",
        "print('leap year')"
      ],
      "metadata": {
        "colab": {
          "base_uri": "https://localhost:8080/"
        },
        "id": "GhNZtrng5jdj",
        "outputId": "ef5568aa-a032-4ae6-cd41-10c58d7fc3e5"
      },
      "execution_count": null,
      "outputs": [
        {
          "output_type": "stream",
          "name": "stdout",
          "text": [
            "enter a number2025\n",
            "leap year\n",
            "leap year\n"
          ]
        }
      ]
    },
    {
      "cell_type": "markdown",
      "source": [
        "Question 8"
      ],
      "metadata": {
        "id": "IOHNZHFFCfRZ"
      }
    },
    {
      "cell_type": "code",
      "source": [
        "for n in range(0,21,2):\n",
        "    print(n)"
      ],
      "metadata": {
        "colab": {
          "base_uri": "https://localhost:8080/"
        },
        "id": "GDLagfd39EqQ",
        "outputId": "abf28d62-218f-40d9-8f23-f5c6561d178f"
      },
      "execution_count": null,
      "outputs": [
        {
          "output_type": "stream",
          "name": "stdout",
          "text": [
            "0\n",
            "2\n",
            "4\n",
            "6\n",
            "8\n",
            "10\n",
            "12\n",
            "14\n",
            "16\n",
            "18\n",
            "20\n"
          ]
        }
      ]
    },
    {
      "cell_type": "markdown",
      "source": [
        "Question 7"
      ],
      "metadata": {
        "id": "fSJcG_aYCkPt"
      }
    },
    {
      "cell_type": "code",
      "source": [
        "for num in range(10,0,-1):\n",
        "    print(num)"
      ],
      "metadata": {
        "colab": {
          "base_uri": "https://localhost:8080/"
        },
        "id": "6zWSoTB49z2Y",
        "outputId": "a6e3b21d-42f4-4de9-f89d-c8b8ab1da1f1"
      },
      "execution_count": null,
      "outputs": [
        {
          "output_type": "stream",
          "name": "stdout",
          "text": [
            "10\n",
            "9\n",
            "8\n",
            "7\n",
            "6\n",
            "5\n",
            "4\n",
            "3\n",
            "2\n",
            "1\n"
          ]
        }
      ]
    },
    {
      "cell_type": "markdown",
      "source": [
        "Question 3"
      ],
      "metadata": {
        "id": "q1qdxOEHDcMT"
      }
    },
    {
      "cell_type": "code",
      "source": [
        "t = float(input('enter a temperature:'))\n",
        "print('1.fahrenheit to celsius')\n",
        "print('2.celsius to fahrenheit')\n",
        "ch = int(input(\"enter choice 1 or 2:\"))\n",
        "if ch == 1:\n",
        "  t1 = ((5/9)*(t-32))\n",
        "elif ch == 2:\n",
        "  t1 = ((9/5)*t)+32\n",
        "else:\n",
        "  print(\"wrong choice of input\")\n",
        "  print('t1')\n"
      ],
      "metadata": {
        "colab": {
          "base_uri": "https://localhost:8080/"
        },
        "id": "YOfNSRglDbYr",
        "outputId": "374093fb-4e34-4fe0-8b04-e4300f91ad49"
      },
      "execution_count": 8,
      "outputs": [
        {
          "name": "stdout",
          "output_type": "stream",
          "text": [
            "enter a temperature:32\n",
            "1.fahrenheit to celsius\n",
            "2.celsius to fahrenheit\n",
            "enter choice 1 or 2:2\n"
          ]
        }
      ]
    },
    {
      "cell_type": "markdown",
      "source": [
        "Question 9"
      ],
      "metadata": {
        "id": "XeU2vWtAIWvY"
      }
    },
    {
      "cell_type": "code",
      "source": [
        "a = int(input('enter a number'))\n",
        "for i in range(1,11):\n",
        "  s = a*i\n",
        "  print(s)"
      ],
      "metadata": {
        "colab": {
          "base_uri": "https://localhost:8080/"
        },
        "id": "-3qhZtdbG8Yu",
        "outputId": "3158eda5-95ac-457c-e017-cfd3f92e4b9d"
      },
      "execution_count": 10,
      "outputs": [
        {
          "output_type": "stream",
          "name": "stdout",
          "text": [
            "enter a number9\n",
            "9\n",
            "18\n",
            "27\n",
            "36\n",
            "45\n",
            "54\n",
            "63\n",
            "72\n",
            "81\n",
            "90\n"
          ]
        }
      ]
    },
    {
      "cell_type": "code",
      "source": [],
      "metadata": {
        "id": "zOROsDIFIpZ5"
      },
      "execution_count": 10,
      "outputs": []
    }
  ]
}