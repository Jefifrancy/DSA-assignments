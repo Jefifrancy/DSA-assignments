{
  "nbformat": 4,
  "nbformat_minor": 0,
  "metadata": {
    "colab": {
      "provenance": []
    },
    "kernelspec": {
      "name": "python3",
      "display_name": "Python 3"
    },
    "language_info": {
      "name": "python"
    }
  },
  "cells": [
    {
      "cell_type": "markdown",
      "source": [
        "Question 1"
      ],
      "metadata": {
        "id": "PoVmXm0vRMn1"
      }
    },
    {
      "cell_type": "code",
      "source": [
        "# input function\n",
        "a =int(input(\"enter first number\"))\n",
        "b = int(input(\"enter second number\"))\n",
        "s = a+b\n",
        "print(s)"
      ],
      "metadata": {
        "colab": {
          "base_uri": "https://localhost:8080/"
        },
        "id": "G40T0ogyhsL_",
        "outputId": "4a54648b-32b8-4aa9-e025-ac5ef20546a0"
      },
      "execution_count": null,
      "outputs": [
        {
          "output_type": "stream",
          "name": "stdout",
          "text": [
            "enter first number2\n",
            "enter second number3\n",
            "5\n"
          ]
        }
      ]
    },
    {
      "cell_type": "markdown",
      "source": [
        "Question 2"
      ],
      "metadata": {
        "id": "l05qG01dRQP2"
      }
    },
    {
      "cell_type": "code",
      "source": [
        "# input function\n",
        "x = int(input(\"enter first number\"))\n",
        "y = int(input(\"enter second number\"))\n",
        "z = x*y\n",
        "print(z)"
      ],
      "metadata": {
        "colab": {
          "base_uri": "https://localhost:8080/"
        },
        "id": "zWr_Sh2Eijkg",
        "outputId": "d37c8b4d-8ae1-42f5-a968-13d414b14e63"
      },
      "execution_count": null,
      "outputs": [
        {
          "output_type": "stream",
          "name": "stdout",
          "text": [
            "enter first number5\n",
            "enter second number4\n",
            "20\n"
          ]
        }
      ]
    },
    {
      "cell_type": "markdown",
      "source": [
        "Question 3"
      ],
      "metadata": {
        "id": "Tc3DSreqRY9h"
      }
    },
    {
      "cell_type": "code",
      "source": [
        "# input function\n",
        "a = int(input(\"enter first number\"))\n",
        "b = int(input(\"enter second number\"))\n",
        "q = a/b\n",
        "r = a%b\n",
        "print(q,r)\n"
      ],
      "metadata": {
        "colab": {
          "base_uri": "https://localhost:8080/"
        },
        "id": "_qaEHjFJkcIO",
        "outputId": "88cf6f9e-35a4-43b6-91f0-86309324c541"
      },
      "execution_count": null,
      "outputs": [
        {
          "output_type": "stream",
          "name": "stdout",
          "text": [
            "enter first number20\n",
            "enter second number5\n",
            "4.0 0\n"
          ]
        }
      ]
    },
    {
      "cell_type": "markdown",
      "source": [
        "Question 4"
      ],
      "metadata": {
        "id": "4KZUqn_sWJZA"
      }
    },
    {
      "cell_type": "code",
      "source": [
        "# input function\n",
        "n = input(\"enter a word\")\n",
        "len(n)"
      ],
      "metadata": {
        "id": "QpwcYQ4nlv3-",
        "colab": {
          "base_uri": "https://localhost:8080/"
        },
        "outputId": "7e2c6018-d9f1-424c-d2db-6518bc955a55"
      },
      "execution_count": 11,
      "outputs": [
        {
          "name": "stdout",
          "output_type": "stream",
          "text": [
            "enter a wordforward\n"
          ]
        },
        {
          "output_type": "execute_result",
          "data": {
            "text/plain": [
              "7"
            ]
          },
          "metadata": {},
          "execution_count": 11
        }
      ]
    },
    {
      "cell_type": "markdown",
      "source": [
        "Question 6"
      ],
      "metadata": {
        "id": "uUyWDbA9WORY"
      }
    },
    {
      "cell_type": "code",
      "source": [
        "# input function\n",
        "s1 = input(\"enter a word\")\n",
        "s1.upper()\n"
      ],
      "metadata": {
        "colab": {
          "base_uri": "https://localhost:8080/",
          "height": 53
        },
        "id": "r4F7X5xkSJgZ",
        "outputId": "1a7b97ae-e829-4577-8944-c9589d1ea21b"
      },
      "execution_count": 12,
      "outputs": [
        {
          "name": "stdout",
          "output_type": "stream",
          "text": [
            "enter a wordgraphics\n"
          ]
        },
        {
          "output_type": "execute_result",
          "data": {
            "text/plain": [
              "'GRAPHICS'"
            ],
            "application/vnd.google.colaboratory.intrinsic+json": {
              "type": "string"
            }
          },
          "metadata": {},
          "execution_count": 12
        }
      ]
    },
    {
      "cell_type": "markdown",
      "source": [
        "Question 7"
      ],
      "metadata": {
        "id": "O1tm0um_WcRB"
      }
    },
    {
      "cell_type": "code",
      "source": [
        "# input function\n",
        "s2 = input(\"enter a word\")\n",
        "s2.lower()"
      ],
      "metadata": {
        "colab": {
          "base_uri": "https://localhost:8080/",
          "height": 53
        },
        "id": "bikUOW31UlBS",
        "outputId": "c62f27ac-eee8-40b1-e33c-51a4ad91cbfd"
      },
      "execution_count": 18,
      "outputs": [
        {
          "name": "stdout",
          "output_type": "stream",
          "text": [
            "enter a wordPROBLEM\n"
          ]
        },
        {
          "output_type": "execute_result",
          "data": {
            "text/plain": [
              "'problem'"
            ],
            "application/vnd.google.colaboratory.intrinsic+json": {
              "type": "string"
            }
          },
          "metadata": {},
          "execution_count": 18
        }
      ]
    },
    {
      "cell_type": "code",
      "source": [],
      "metadata": {
        "id": "n9YqletdWrAQ"
      },
      "execution_count": null,
      "outputs": []
    }
  ]
}